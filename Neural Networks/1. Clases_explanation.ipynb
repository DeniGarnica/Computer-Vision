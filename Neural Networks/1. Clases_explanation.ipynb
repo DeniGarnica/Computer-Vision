{
 "cells": [
  {
   "cell_type": "markdown",
   "metadata": {},
   "source": [
    "# Classes or superclasses\n",
    "In Python, classes can be derived from other classes, which are called base classes or superclasses."
   ]
  },
  {
   "cell_type": "markdown",
   "metadata": {},
   "source": [
    "`super().__init__()` is a Python idiom that is used to call the superclass's (i.e., the parent class's) `__init__` method from within the subclass's `__init__` method.\n",
    "\n",
    "A class that is derived from another class is called a subclass, and it can override or extend the methods and properties of the superclass. When creating a subclass, you can define an `__init__` method that initializes the attributes of the subclass. If the subclass needs to initialize some attributes that are defined in the superclass, you can call the superclass's `__init__` method using `super().__init__()` to ensure that these attributes are properly initialized.\n",
    "\n",
    "Here is an example of how `super().__init__()` can be used in a subclass:"
   ]
  },
  {
   "cell_type": "code",
   "execution_count": 1,
   "metadata": {},
   "outputs": [],
   "source": [
    "class BaseClass:\n",
    "    def __init__(self, attr1, attr2):\n",
    "        self.attr1 = attr1\n",
    "        self.attr2 = attr2\n",
    "\n",
    "class SubClass(BaseClass):\n",
    "    def __init__(self, attr1, attr2, attr3):\n",
    "        # Call the superclass's __init__ method to initialize attr1 and attr2\n",
    "        super().__init__(attr1, attr2)\n",
    "        # Define the new attribute of this subclass\n",
    "        self.attr3 = attr3\n"
   ]
  },
  {
   "cell_type": "markdown",
   "metadata": {},
   "source": [
    "In this example, the BaseClass defines two attributes, attr1 and attr2, which are initialized in the `__init__` method. The SubClass is derived from BaseClass and defines an additional attribute, attr3. The SubClass's `__init__` method calls the superclass's `__init__` method using `super().__init__(attr1, attr2)` to ensure that attr1 and attr2 are properly initialized, and then it initializes attr3."
   ]
  },
  {
   "cell_type": "markdown",
   "metadata": {},
   "source": [
    "# nn.Module subclass"
   ]
  },
  {
   "cell_type": "markdown",
   "metadata": {},
   "source": [
    "`nn.Module` is a PyTorch class that provides a convenient interface for building and training neural networks. It defines a set of methods and properties that are common to all neural network modules in PyTorch, such as the forward method that defines how the input data is transformed as it passes through the layers of the network.\n",
    "\n",
    "To create a neural network in PyTorch, you can create a subclass of nn.Module and define the layers of your network as class attributes. You should also define a forward method that takes in an input tensor and returns an output tensor, representing the output of the network.\n",
    "\n",
    "Here is an example of a simple fully-connected neural network implemented using the nn.Module class:"
   ]
  },
  {
   "cell_type": "code",
   "execution_count": 2,
   "metadata": {},
   "outputs": [],
   "source": [
    "import torch\n",
    "import torch.nn as nn\n",
    "\n",
    "class SimpleNet(nn.Module):\n",
    "    def __init__(self, input_size, hidden_size, num_classes):\n",
    "        super().__init__()\n",
    "        self.fc1 = nn.Linear(input_size, hidden_size)\n",
    "        self.relu = nn.ReLU()\n",
    "        self.fc2 = nn.Linear(hidden_size, num_classes)\n",
    "    \n",
    "    def forward(self, x):\n",
    "        x = self.fc1(x)\n",
    "        x = self.relu(x)\n",
    "        x = self.fc2(x)\n",
    "        return x\n"
   ]
  },
  {
   "attachments": {},
   "cell_type": "markdown",
   "metadata": {},
   "source": [
    "In this example, the SimpleNet class defines a neural network with one hidden layer and ReLU activation functions. The `__init__` method initializes the layers of the network as class attributes, and the forward method defines how the input tensor is transformed as it passes through the layers of the network."
   ]
  },
  {
   "attachments": {},
   "cell_type": "markdown",
   "metadata": {},
   "source": [
    "To use the SimpleNet class, you can instantiate it and pass input data through the network by calling the forward method. An example will be made in the next notebook."
   ]
  }
 ],
 "metadata": {
  "kernelspec": {
   "display_name": "Python 3.9.13 64-bit (microsoft store)",
   "language": "python",
   "name": "python3"
  },
  "language_info": {
   "codemirror_mode": {
    "name": "ipython",
    "version": 3
   },
   "file_extension": ".py",
   "mimetype": "text/x-python",
   "name": "python",
   "nbconvert_exporter": "python",
   "pygments_lexer": "ipython3",
   "version": "3.9.13"
  },
  "orig_nbformat": 4,
  "vscode": {
   "interpreter": {
    "hash": "49a102da4b5105263402ebcb8052cded23fbfdf691953dc1ee8c4f9cf48b6d97"
   }
  }
 },
 "nbformat": 4,
 "nbformat_minor": 2
}
