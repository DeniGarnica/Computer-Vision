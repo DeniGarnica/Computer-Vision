{
 "cells": [
  {
   "attachments": {},
   "cell_type": "markdown",
   "metadata": {},
   "source": [
    "# Normalizing Flows"
   ]
  },
  {
   "attachments": {},
   "cell_type": "markdown",
   "metadata": {},
   "source": [
    "Normalizing flows can be thought of as a sequence of invertible transformations that map an initial distribution (such as a standard normal distribution) to a target distribution. These transformations are called \"flows\" because they transform the data from a simple distribution to a more complex one.\n",
    "\n",
    "One common type of normalizing flow is the affine coupling flow, which consists of a series of affine transformations applied to the data in a particular order. An affine transformation is a linear transformation that can stretch, rotate, and translate the data. By carefully designing the affine transformations, it is possible to transform a simple distribution into a more complex one.\n",
    "\n",
    "Normalizing flows can be trained using maximum likelihood estimation (MLE), which involves minimizing the negative log-likelihood of the data given the model. This is often done using stochastic gradient descent (SGD) or a related optimization algorithm.\n",
    "\n",
    "Normalizing flows are often used as a building block for variational autoencoders (VAEs), which are a type of generative model that can learn to represent and generate complex data distributions. In a VAE, the encoder network maps the input data to a latent representation, and the decoder network maps the latent representation back to the original data space. The normalizing flow is used to model the distribution of the latent representation, allowing the VAE to capture the structure of the data distribution in the latent space."
   ]
  }
 ],
 "metadata": {
  "kernelspec": {
   "display_name": "Python 3",
   "language": "python",
   "name": "python3"
  },
  "language_info": {
   "name": "python",
   "version": "3.9.13 (tags/v3.9.13:6de2ca5, May 17 2022, 16:36:42) [MSC v.1929 64 bit (AMD64)]"
  },
  "orig_nbformat": 4,
  "vscode": {
   "interpreter": {
    "hash": "49a102da4b5105263402ebcb8052cded23fbfdf691953dc1ee8c4f9cf48b6d97"
   }
  }
 },
 "nbformat": 4,
 "nbformat_minor": 2
}
